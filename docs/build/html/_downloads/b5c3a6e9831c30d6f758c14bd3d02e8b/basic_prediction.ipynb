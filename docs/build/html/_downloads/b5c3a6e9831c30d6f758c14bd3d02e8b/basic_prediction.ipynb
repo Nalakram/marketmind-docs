{
 "cells": [
  {
   "cell_type": "markdown",
   "id": "bd89a881",
   "metadata": {},
   "source": [
    "# Basic Prediction Tutorial\n",
    "\n",
    "This tutorial demonstrates how to use **MarketMind** to generate stock price predictions using the Python data pipeline and ML models."
   ]
  },
  {
   "cell_type": "markdown",
   "id": "89667286",
   "metadata": {},
   "source": [
    "## Step 1: Set Up Environment"
   ]
  },
  {
   "cell_type": "code",
   "execution_count": null,
   "id": "f5df3fff",
   "metadata": {},
   "outputs": [],
   "source": [
    "import sys\n",
    "sys.path.append('../srcPy')\n",
    "from data.pipeline import DataPipeline\n",
    "from predict.make_prediction import Predictor\n",
    "\n",
    "# Initialize pipeline\n",
    "pipeline = DataPipeline()\n",
    "predictor = Predictor(model_path='../models/v1/saved_model.onnx')"
   ]
  },
  {
   "cell_type": "markdown",
   "id": "b977fc1f",
   "metadata": {},
   "source": [
    "## Step 2: Load and Preprocess Data"
   ]
  },
  {
   "cell_type": "code",
   "execution_count": null,
   "id": "d294a10a",
   "metadata": {},
   "outputs": [],
   "source": [
    "# Load sample data\n",
    "data = pipeline.load_data(ticker='AAPL', start_date='2023-01-01', end_date='2023-12-31')\n",
    "processed_data = pipeline.preprocess(data)"
   ]
  },
  {
   "cell_type": "markdown",
   "id": "9a5fc3cd",
   "metadata": {},
   "source": [
    "## Step 3: Generate Prediction"
   ]
  },
  {
   "cell_type": "code",
   "execution_count": null,
   "id": "2e4412db",
   "metadata": {},
   "outputs": [],
   "source": [
    "# Make prediction\n",
    "prediction = predictor.predict(processed_data)\n",
    "print(f'Predicted stock price: {prediction}')"
   ]
  },
  {
   "cell_type": "markdown",
   "id": "9c899bdc",
   "metadata": {},
   "source": [
    "## Next Steps\n",
    "\n",
    "- Explore the [Advanced Features Tutorial](./advanced_features.ipynb).\n",
    "- Check the [Usage Guide](../usage_guide.md) for GUI instructions."
   ]
  }
 ],
 "metadata": {
  "kernelspec": {
   "display_name": "Python 3",
   "language": "python",
   "name": "python3"
  },
  "language_info": {
   "codemirror_mode": {
    "name": "ipython",
    "version": 3
   },
   "file_extension": ".py",
   "mimetype": "text/x-python",
   "name": "python",
   "nbconvert_exporter": "python",
   "pygments_lexer": "ipython3",
   "version": "3.9"
  }
 },
 "nbformat": 4,
 "nbformat_minor": 5
}
